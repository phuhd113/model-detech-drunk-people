{
 "cells": [
  {
   "cell_type": "code",
   "execution_count": 16,
   "metadata": {},
   "outputs": [
    {
     "ename": "ModuleNotFoundError",
     "evalue": "No module named 'sklearn'",
     "output_type": "error",
     "traceback": [
      "\u001b[1;31m---------------------------------------------------------------------------\u001b[0m",
      "\u001b[1;31mModuleNotFoundError\u001b[0m                       Traceback (most recent call last)",
      "Cell \u001b[1;32mIn[16], line 7\u001b[0m\n\u001b[0;32m      5\u001b[0m \u001b[38;5;28;01mimport\u001b[39;00m \u001b[38;5;21;01mnumpy\u001b[39;00m \u001b[38;5;28;01mas\u001b[39;00m \u001b[38;5;21;01mnp\u001b[39;00m\n\u001b[0;32m      6\u001b[0m \u001b[38;5;28;01mimport\u001b[39;00m \u001b[38;5;21;01mos\u001b[39;00m\n\u001b[1;32m----> 7\u001b[0m \u001b[38;5;28;01mimport\u001b[39;00m \u001b[38;5;21;01msklearn\u001b[39;00m\n\u001b[0;32m      9\u001b[0m \u001b[38;5;66;03m#import random\u001b[39;00m\n\u001b[0;32m     10\u001b[0m \u001b[38;5;66;03m#import torch\u001b[39;00m\n",
      "\u001b[1;31mModuleNotFoundError\u001b[0m: No module named 'sklearn'"
     ]
    }
   ],
   "source": [
    "import cv2\n",
    "#import requests\n",
    "#import matplotlib.pyplot as plt\n",
    "import glob\n",
    "import numpy as np\n",
    "import os\n",
    "import sklearn\n",
    "\n",
    "#import random\n",
    "#import torch"
   ]
  },
  {
   "cell_type": "code",
   "execution_count": 12,
   "metadata": {},
   "outputs": [],
   "source": [
    "\n",
    "#Defind 2 URL of video for dataset\n",
    "# List các video\n",
    "video_drunk_path = \"D:\\\\Studying\\\\GraduationThesis\\\\data\\\\videos\\\\Drunk\\\\Day1\"\n",
    "video_undrunk_path = \"D:\\\\Studying\\\\GraduationThesis\\\\data\\\\videos\\\\UnDrunk\\\\Day1\"\n",
    "images_path = \"D:\\\\Studying\\\\GraduationThesis\\\\Data\\\\Images\\\\Day1\"\n",
    "# Đường dẫn tới thư mục chứa hình ảnh \"drunk\" và \"undrunk\"\n",
    "images_drunk = \"D:\\\\Studying\\\\GraduationThesis\\\\data\\\\images\\\\drunk\\\\day1\"\n",
    "images_undrunk = \"D:\\\\Studying\\\\GraduationThesis\\\\data\\\\images\\\\undrunk\\\\day1\"\n",
    "\n",
    "train_undrunk = \"D:\\\\Studying\\\\GraduationThesis\\\\data\\\\train_data\\\\train_undrunk\"\n",
    "train_drunk = \"D:\\\\Studying\\\\GraduationThesis\\\\data\\\\train_data\\\\train_drunk\"\n",
    "test_undrunk= \"D:\\\\Studying\\\\GraduationThesis\\\\data\\\\test_data\\\\test_undrunk\"\n",
    "test_drunk= \"D:\\\\Studying\\\\GraduationThesis\\\\data\\\\test_data\\\\test_drunk\"\n",
    "\n",
    "# Đường dẫn tới thư mục train và test\n",
    "train_path = \"D:\\\\Studying\\\\GraduationThesis\\\\data\\\\train_data\"\n",
    "test_path = \"D:\\\\Studying\\\\GraduationThesis\\\\data\\\\test_data\"\n",
    "\n"
   ]
  },
  {
   "cell_type": "code",
   "execution_count": 6,
   "metadata": {},
   "outputs": [],
   "source": [
    "def convert_video_to_images(video_path, images_path, video_name):\n",
    "    cap = cv2.VideoCapture(video_path)\n",
    "    if not cap.isOpened():\n",
    "        print(f\"Không thể mở video: {video_path}\")\n",
    "        return\n",
    "\n",
    "    os.makedirs(images_path, exist_ok=True)\n",
    "\n",
    "    fps = int(cap.get(cv2.CAP_PROP_FPS))\n",
    "    frame_count = int(cap.get(cv2.CAP_PROP_FRAME_COUNT))\n",
    "    duration_seconds = frame_count / fps\n",
    "\n",
    "    frame_number = 0\n",
    "    current_second = 0\n",
    "    count = 1  \n",
    "\n",
    "    while cap.isOpened() and current_second <= duration_seconds:\n",
    "        ret, frame = cap.read()\n",
    "        if ret:\n",
    "            current_second = frame_number / fps        \n",
    "            frame_number += 1\n",
    "            # Lưu một frame từ video mỗi giây\n",
    "            if frame_number % fps == 0:\n",
    "                frame_filename = os.path.join(images_path, f'{video_name}_{count}.jpg')\n",
    "                cv2.imwrite(frame_filename, frame)\n",
    "                count += 1  # Tăng count lên 1 sau khi lưu hình ảnh\n",
    "            \n",
    "        else:\n",
    "            break\n",
    "\n",
    "    cap.release()\n",
    "    cv2.destroyAllWindows()\n",
    "            \n",
    "\n",
    "\n",
    "\n"
   ]
  },
  {
   "cell_type": "code",
   "execution_count": 7,
   "metadata": {},
   "outputs": [],
   "source": [
    "\n",
    "# def for_videos_to_images(videos_directory, images_directory):\n",
    "#     # Liệt kê tất cả các tệp trong thư mục video\n",
    "#     for root, dirs, files in os.walk(videos_directory):\n",
    "#         for file in files:\n",
    "#             # Kiểm tra xem tệp có phải là video không\n",
    "#             if file.lower().endswith(('.avi', '.mp4', '.mov', '.flv', '.wmv')):\n",
    "#                 video_path = os.path.join(root, file)\n",
    "#                 try : \n",
    "#                     convert_video_to_images(video_path, images_directory,1)\n",
    "#                 except Exception  as e:\n",
    "#                     print(f\"Lỗi khi xử lý video {video_path}: {e}\")\n",
    "def for_videos_to_images(videos_directory, images_directory):\n",
    "    # Liệt kê tất cả các tệp trong thư mục video\n",
    "    for root, dirs, files in os.walk(videos_directory):\n",
    "        for file in files:\n",
    "            # Kiểm tra xem tệp có phải là video không\n",
    "            if file.lower().endswith(('.avi', '.mp4', '.mov', '.flv', '.wmv')):\n",
    "                video_path = os.path.join(root, file)\n",
    "                video_name = os.path.splitext(file)[0]  # Tên video (không bao gồm phần mở rộng)\n",
    "                #images_directory_for_video = os.path.join(images_directory, video_name)  # Thư mục lưu trữ hình ảnh cho video tương ứng\n",
    "                #os.makedirs(images_directory_for_video, exist_ok=True)  # Tạo thư mục lưu trữ hình ảnh nếu chưa tồn tại\n",
    "                try:\n",
    "                    convert_video_to_images(video_path, images_directory, video_name)\n",
    "                except Exception as e:\n",
    "                    print(f\"Lỗi khi xử lý video {video_path}: {e}\")\n",
    "\n"
   ]
  },
  {
   "cell_type": "code",
   "execution_count": 11,
   "metadata": {},
   "outputs": [
    {
     "name": "stdout",
     "output_type": "stream",
     "text": [
      "Chuyển đổi hoàn thành!\n"
     ]
    }
   ],
   "source": [
    "# Chuyển đổi từng video undrunk trong danh sách\n",
    "for_videos_to_images(video_drunk_path,images_drunk)\n",
    "\n",
    "print(\"Chuyển đổi hoàn thành!\")"
   ]
  },
  {
   "cell_type": "code",
   "execution_count": 15,
   "metadata": {},
   "outputs": [
    {
     "ename": "ModuleNotFoundError",
     "evalue": "No module named 'sklearn'",
     "output_type": "error",
     "traceback": [
      "\u001b[1;31m---------------------------------------------------------------------------\u001b[0m",
      "\u001b[1;31mModuleNotFoundError\u001b[0m                       Traceback (most recent call last)",
      "Cell \u001b[1;32mIn[15], line 3\u001b[0m\n\u001b[0;32m      1\u001b[0m \u001b[38;5;28;01mimport\u001b[39;00m \u001b[38;5;21;01mos\u001b[39;00m\n\u001b[0;32m      2\u001b[0m \u001b[38;5;28;01mimport\u001b[39;00m \u001b[38;5;21;01mshutil\u001b[39;00m\n\u001b[1;32m----> 3\u001b[0m \u001b[38;5;28;01mfrom\u001b[39;00m \u001b[38;5;21;01msklearn\u001b[39;00m\u001b[38;5;21;01m.\u001b[39;00m\u001b[38;5;21;01mmodel_selection\u001b[39;00m \u001b[38;5;28;01mimport\u001b[39;00m train_test_split\n\u001b[0;32m      7\u001b[0m \u001b[38;5;66;03m# Tách dữ liệu thành tập train và tập test\u001b[39;00m\n\u001b[0;32m      8\u001b[0m train_drunk_data, test_drunk_data \u001b[38;5;241m=\u001b[39m train_test_split(os\u001b[38;5;241m.\u001b[39mlistdir(images_drunk), test_size\u001b[38;5;241m=\u001b[39m\u001b[38;5;241m0.2\u001b[39m, random_state\u001b[38;5;241m=\u001b[39m\u001b[38;5;241m42\u001b[39m)\n",
      "\u001b[1;31mModuleNotFoundError\u001b[0m: No module named 'sklearn'"
     ]
    }
   ],
   "source": [
    "import os\n",
    "import shutil\n",
    "from sklearn.model_selection import train_test_split\n",
    "\n",
    "\n",
    "\n",
    "# Tách dữ liệu thành tập train và tập test\n",
    "train_drunk_data, test_drunk_data = train_test_split(os.listdir(images_drunk), test_size=0.2, random_state=42)\n",
    "train_undrunk_data, test_undrunk_data = train_test_split(os.listdir(images_undrunk), test_size=0.2, random_state=42)\n",
    "\n",
    "# Tạo các thư mục cần thiết nếu chưa tồn tại\n",
    "for directory in [\"train_drunk\", \"train_undrunk\", \"test_drunk\", \"test_undrunk\"]:\n",
    "    os.makedirs(os.path.join(train_path, directory), exist_ok=True)\n",
    "    os.makedirs(os.path.join(test_path, directory), exist_ok=True)\n",
    "\n",
    "# Di chuyển các hình ảnh vào các thư mục tương ứng\n",
    "for image in train_drunk_data:\n",
    "    shutil.copy(os.path.join(images_drunk, image), os.path.join(train_path, \"train_drunk\", image))\n",
    "\n",
    "for image in test_drunk_data:\n",
    "    shutil.copy(os.path.join(images_drunk, image), os.path.join(test_path, \"test_drunk\", image))\n",
    "\n",
    "for image in train_undrunk_data:\n",
    "    shutil.copy(os.path.join(images_undrunk, image), os.path.join(train_path, \"train_undrunk\", image))\n",
    "\n",
    "for image in test_undrunk_data:\n",
    "    shutil.copy(os.path.join(images_undrunk, image), os.path.join(test_path, \"test_undrunk\", image))\n",
    "\n",
    "print(\"Tách dữ liệu thành công!\")\n"
   ]
  },
  {
   "cell_type": "code",
   "execution_count": null,
   "metadata": {},
   "outputs": [],
   "source": [
    "def train_data():\n",
    "    train_data_undunk = [] \n",
    "    train_data_drunk=[]\n",
    "    for image1 in tqdm(os.listdir(train_messy)): \n",
    "        path = os.path.join(train_messy, image)\n",
    "        img1 = cv2.imread(path, cv2.IMREAD_GRAYSCALE) \n",
    "        img1 = cv2.resize(img1, (image_size, image_size))\n",
    "        train_data_messy.append(img1) \n",
    "    for image2 in tqdm(os.listdir(train_clean)): \n",
    "        path = os.path.join(train_clean, image)\n",
    "        img2 = cv2.imread(path, cv2.IMREAD_GRAYSCALE) \n",
    "        img2 = cv2.resize(img2, (image_size, image_size))\n",
    "        train_data_clean.append(img2) \n",
    "    \n",
    "    train_data= np.concatenate((np.asarray(train_data_messy),np.asarray(train_data_clean)),axis=0)\n",
    "    return train_data "
   ]
  }
 ],
 "metadata": {
  "kernelspec": {
   "display_name": "Python 3",
   "language": "python",
   "name": "python3"
  },
  "language_info": {
   "codemirror_mode": {
    "name": "ipython",
    "version": 3
   },
   "file_extension": ".py",
   "mimetype": "text/x-python",
   "name": "python",
   "nbconvert_exporter": "python",
   "pygments_lexer": "ipython3",
   "version": "3.12.3"
  }
 },
 "nbformat": 4,
 "nbformat_minor": 2
}
